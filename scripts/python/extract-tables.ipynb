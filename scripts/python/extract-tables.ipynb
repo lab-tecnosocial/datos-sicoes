{
 "cells": [
  {
   "cell_type": "code",
   "execution_count": 1,
   "metadata": {},
   "outputs": [],
   "source": [
    "# Importar librerias y configurar logging\n",
    "import pandas as pd\n",
    "from pathlib import Path\n",
    "import tabula\n",
    "from unidecode import unidecode\n",
    "import logging\n",
    "logging.basicConfig(level=logging.DEBUG, filename='log.log',  format='%(asctime)s %(levelname)s %(name)s %(message)s')\n",
    "logger = logging.getLogger(__name__)"
   ]
  },
  {
   "cell_type": "code",
   "execution_count": 2,
   "metadata": {},
   "outputs": [],
   "source": [
    "# Listar archivos pdf\n",
    "mi_path = 'fichas_simp/'\n",
    "lista_pdfs = list(Path(mi_path).glob('**/*.pdf'))\n",
    "nombres_pdfs = [pdf.name.replace('.pdf', '') for pdf in lista_pdfs]"
   ]
  },
  {
   "cell_type": "code",
   "execution_count": null,
   "metadata": {},
   "outputs": [],
   "source": [
    "# Extraer tablas\n",
    "tablas = []\n",
    "for pdf in lista_pdfs:\n",
    "    try:\n",
    "        tabla = tabula.read_pdf(pdf, pages='all', guess=False, lattice=True)\n",
    "        tablas.append(tabla)\n",
    "    except Exception as e:\n",
    "        tablas.append(None)\n",
    "        logger.error(f'Error al extraer tablas de {pdf}')\n",
    "        logger.error(e)\n",
    "        continue"
   ]
  },
  {
   "cell_type": "code",
   "execution_count": 3,
   "metadata": {},
   "outputs": [],
   "source": [
    "# read pickle\n",
    "tablas = pd.read_pickle('out/v2/fichas.pkl')"
   ]
  },
  {
   "cell_type": "code",
   "execution_count": 4,
   "metadata": {},
   "outputs": [],
   "source": [
    "# Extraer y limpiar tablas\n",
    "tablas_item = []\n",
    "tablas_adjudicado = []\n",
    "\n",
    "for idx, tabla in enumerate(tablas):\n",
    "    try:\n",
    "        tabla_item = tabla[4] if tabla[4].columns.str.contains('UNSPS').any() else tabla[5] if tabla[5].columns.str.contains('UNSPS').any() else tabla[6]\n",
    "        tabla_item.columns = tabla_item.columns.str.replace('\\r', '', regex=True).str.replace(' ', '').to_series().apply(unidecode)\n",
    "        tabla_item.drop(tabla_item.columns[-1], axis=1, inplace=True)\n",
    "        tabla_item.replace('\\r', ' ', regex=True, inplace=True)\n",
    "        tabla_item.drop(tabla_item.index[-1], inplace=True)\n",
    "        tabla_item.insert(0, 'cuce', nombres_pdfs[idx])\n",
    "        tabla_item.insert(1, 'list_n', idx)\n",
    "        tablas_item.append(tabla_item)\n",
    "    except Exception as e:\n",
    "        tablas_item.append(None)\n",
    "        logger.error(f'Error al procesar tablas de ITEMS de la lista: {idx}: {nombres_pdfs[idx]}')\n",
    "        logger.error(e)\n",
    "        continue\n",
    "    try:\n",
    "        tabla_adjudicado = tabla[3] if tabla[3].columns.str.contains('Nombre proponente').any() else tabla[4] if tabla[4].columns.str.contains('Nombre proponente').any() else tabla[5]\n",
    "        tabla_adjudicado.insert(0, 'cuce', nombres_pdfs[idx])\n",
    "        tabla_adjudicado.insert(1, 'list_n', idx)\n",
    "        tabla_adjudicado.replace('\\r', ' ', regex=True, inplace=True)\n",
    "        tablas_adjudicado.append(tabla_adjudicado)\n",
    "    except Exception as e:\n",
    "        tablas_adjudicado.append(None)\n",
    "        logger.error(f'Error al procesar tablas de ADJUDICADOS la lista: {idx}: {nombres_pdfs[idx]}')\n",
    "        logger.error(e)\n",
    "        continue\n",
    "\n",
    "    "
   ]
  },
  {
   "cell_type": "code",
   "execution_count": 5,
   "metadata": {},
   "outputs": [],
   "source": [
    "# Unir y exportar tablas a CSV\n",
    "pd.concat(tablas_item, ignore_index=True).to_csv('out/v1/tablas_item.csv', index=False)\n"
   ]
  },
  {
   "cell_type": "code",
   "execution_count": 8,
   "metadata": {},
   "outputs": [],
   "source": [
    "tablas_adjudicado_clean = pd.concat(tablas_adjudicado, ignore_index=True)\n",
    "tablas_adjudicado_clean.columns = ['cuce', 'list_n', 'numero', 'nombre_proponente', 'monto_adjudicado', 'nro_de', 'monto_de', 'fecha_1', 'monto', 'fecha_2', 'rupe', 'estado']\n",
    "tablas_adjudicado_clean.to_csv('out/v1/tablas_adjudicado.csv', index=False)"
   ]
  },
  {
   "cell_type": "code",
   "execution_count": null,
   "metadata": {},
   "outputs": [],
   "source": [
    "import pickle\n",
    "with open('../../fichas/fichas_nuevas.pkl', 'wb') as f:\n",
    "    pickle.dump(tablas, f)\n",
    "\n",
    "with open('../../fichas/lista_pdfs.pkl', 'wb') as f:\n",
    "    pickle.dump(lista_pdfs, f)"
   ]
  },
  {
   "cell_type": "code",
   "execution_count": null,
   "metadata": {},
   "outputs": [],
   "source": [
    "len(lista_pdfs) == len(tablas) == len(tablas_clean)"
   ]
  },
  {
   "cell_type": "markdown",
   "metadata": {},
   "source": [
    "# Pruebas"
   ]
  },
  {
   "cell_type": "code",
   "execution_count": null,
   "metadata": {},
   "outputs": [],
   "source": [
    "lista_pdfs[35]"
   ]
  },
  {
   "cell_type": "code",
   "execution_count": null,
   "metadata": {},
   "outputs": [],
   "source": [
    "tablas[35][5]"
   ]
  }
 ],
 "metadata": {
  "kernelspec": {
   "display_name": "Python 3.9.13 64-bit",
   "language": "python",
   "name": "python3"
  },
  "language_info": {
   "codemirror_mode": {
    "name": "ipython",
    "version": 3
   },
   "file_extension": ".py",
   "mimetype": "text/x-python",
   "name": "python",
   "nbconvert_exporter": "python",
   "pygments_lexer": "ipython3",
   "version": "3.9.13"
  },
  "orig_nbformat": 4,
  "vscode": {
   "interpreter": {
    "hash": "aee8b7b246df8f9039afb4144a1f6fd8d2ca17a180786b69acc140d282b71a49"
   }
  }
 },
 "nbformat": 4,
 "nbformat_minor": 2
}
