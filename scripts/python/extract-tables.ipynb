{
 "cells": [
  {
   "cell_type": "code",
   "execution_count": 1,
   "metadata": {},
   "outputs": [],
   "source": [
    "# Importar librerias\n",
    "import pandas as pd\n",
    "from pathlib import Path\n",
    "import tabula\n",
    "from unidecode import unidecode"
   ]
  },
  {
   "cell_type": "code",
   "execution_count": 2,
   "metadata": {},
   "outputs": [],
   "source": [
    "# Listar archivos pdf\n",
    "mi_path = 'fichas/Fichas_Javi/'\n",
    "lista_pdfs = list(Path(mi_path).glob('**/*.pdf'))"
   ]
  },
  {
   "cell_type": "code",
   "execution_count": 3,
   "metadata": {},
   "outputs": [],
   "source": [
    "# Extraer tablas\n",
    "tablas = [tabula.read_pdf(pdf, pages=2, guess=False, lattice=True) for pdf in lista_pdfs[0:10]]"
   ]
  },
  {
   "cell_type": "code",
   "execution_count": 4,
   "metadata": {},
   "outputs": [],
   "source": [
    "# Limpiar tablas\n",
    "nombres_pdfs = [pdf.name.replace('.pdf', '') for pdf in lista_pdfs]\n",
    "tablas_clean = []\n",
    "for idx, tabla in enumerate(tablas):\n",
    "    tabla_x = tabla[0] if tabla[0].columns.str.contains('UNSPS').any() else tabla[1]\n",
    "    tabla_x.columns = tabla_x.columns.str.replace('\\r', '', regex=True).str.replace(' ', '').to_series().apply(unidecode)\n",
    "    tabla_x = tabla_x.drop(tabla_x.columns[-1], axis=1)\n",
    "    tabla_x.replace('\\r', ' ', regex=True, inplace=True)\n",
    "    tabla_x.drop(tabla_x.index[-1], inplace=True)\n",
    "    tabla_x.insert(0, 'cuce', nombres_pdfs[idx])\n",
    "    tablas_clean.append(tabla_x)\n",
    "    "
   ]
  },
  {
   "cell_type": "code",
   "execution_count": 19,
   "metadata": {},
   "outputs": [],
   "source": [
    "# Unir tablas\n",
    "df_clean = pd.concat(tablas_clean)"
   ]
  },
  {
   "cell_type": "code",
   "execution_count": null,
   "metadata": {},
   "outputs": [],
   "source": [
    "# Exportar a csv\n",
    "df_clean.to_csv('../../fichas/fichas_nuevas.csv', index=False)"
   ]
  }
 ],
 "metadata": {
  "kernelspec": {
   "display_name": "Python 3.9.13 64-bit",
   "language": "python",
   "name": "python3"
  },
  "language_info": {
   "codemirror_mode": {
    "name": "ipython",
    "version": 3
   },
   "file_extension": ".py",
   "mimetype": "text/x-python",
   "name": "python",
   "nbconvert_exporter": "python",
   "pygments_lexer": "ipython3",
   "version": "3.9.13"
  },
  "orig_nbformat": 4,
  "vscode": {
   "interpreter": {
    "hash": "aee8b7b246df8f9039afb4144a1f6fd8d2ca17a180786b69acc140d282b71a49"
   }
  }
 },
 "nbformat": 4,
 "nbformat_minor": 2
}
