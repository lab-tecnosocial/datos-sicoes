{
 "cells": [
  {
   "cell_type": "markdown",
   "metadata": {},
   "source": [
    "## Instalando y cargando librerias necesarias"
   ]
  },
  {
   "cell_type": "code",
   "execution_count": null,
   "metadata": {},
   "outputs": [],
   "source": [
    "!pip3 install pandas numpy tabula-py unidecode"
   ]
  },
  {
   "cell_type": "code",
   "execution_count": 1,
   "metadata": {},
   "outputs": [],
   "source": [
    "# Importar librerias y configurar logging\n",
    "import pandas as pd\n",
    "import numpy as np\n",
    "from pathlib import Path\n",
    "import tabula\n",
    "from unidecode import unidecode\n",
    "import logging\n",
    "logging.basicConfig(level=logging.DEBUG, filename='log.log',  format='%(asctime)s %(levelname)s %(name)s %(message)s')\n",
    "logger = logging.getLogger(__name__)\n"
   ]
  },
  {
   "cell_type": "markdown",
   "metadata": {},
   "source": [
    "## Pasar carpeta de entrada de fichas en PDF y salida en CSV"
   ]
  },
  {
   "cell_type": "code",
   "execution_count": 2,
   "metadata": {},
   "outputs": [],
   "source": [
    "# Listar archivos pdf\n",
    "carpeta_entrada = './pdf'\n",
    "carpeta_salida = './csv'\n",
    "lista_pdfs = list(Path(carpeta_entrada).glob('**/*.pdf'))\n",
    "nombres_pdfs = [pdf.name.replace('.pdf', '') for pdf in lista_pdfs]"
   ]
  },
  {
   "cell_type": "markdown",
   "metadata": {},
   "source": [
    "## Extraer tablas en crudo"
   ]
  },
  {
   "cell_type": "code",
   "execution_count": 3,
   "metadata": {},
   "outputs": [],
   "source": [
    "# Extraer tablas en crudo\n",
    "tablas = []\n",
    "for pdf in lista_pdfs:\n",
    "    try:\n",
    "        tabla = tabula.read_pdf(pdf, pages='all', guess=False, lattice=True)\n",
    "        tablas.append(tabla)\n",
    "    except Exception as e:\n",
    "        tablas.append(None)\n",
    "        logger.error(f'Error al extraer tablas de {pdf}')\n",
    "        logger.error(e)\n",
    "        continue\n",
    "\n",
    "# Obtener tablas de interes: adjudicado e items\n",
    "tablas_adjudicado = []\n",
    "tablas_item = []\n",
    "\n",
    "# Funciones de ayuda\n",
    "def remove_header(df):\n",
    "    return df.T.reset_index().T.reset_index(drop=True)\n",
    "def get_indexes(list_dfs):\n",
    "    list_adjudicado, list_item, list_cronograma = [], [], []\n",
    "    idx_adjudicado, idx_item, idx_cronograma = None, None, None\n",
    "    for i in range(len(list_dfs)):\n",
    "        if list_dfs[i].columns.str.contains('Nombre proponente').any():\n",
    "            list_adjudicado.append(i)\n",
    "        if list_dfs[i].columns.str.contains('UNSPS').any():\n",
    "            list_item.append(i)\n",
    "        if list_dfs[i].columns.str.contains('^Fecha$').any():\n",
    "            list_cronograma.append(i)\n",
    "    idx_adjudicado = list_adjudicado[0] if len(list_adjudicado) > 0 else None\n",
    "    idx_item = list_item[0] if len(list_item) > 0 else None\n",
    "    idx_cronograma = list_cronograma[0] if len(list_cronograma) > 0 else None\n",
    "    return idx_adjudicado, idx_item, idx_cronograma\n",
    "\n",
    "# Recorrer\n",
    "\n",
    "for idx, tabla in enumerate(tablas):\n",
    "    try:\n",
    "        [idx_adjudicado, idx_item, idx_cronograma] = get_indexes(tabla)\n",
    "        tabla_item = [remove_header(x) for x in tabla[idx_item:idx_cronograma]]\n",
    "        # tabla_item.columns = tabla_item.columns.str.replace('\\r', '', regex=True).str.replace(' ', '').to_series().apply(unidecode)\n",
    "        for df in tabla_item:\n",
    "            df.drop(df.columns[-1], axis=1, inplace=True)\n",
    "            # df.drop(df.index[-1], inplace=True)\n",
    "            df.replace('\\r', ' ', regex=True, inplace=True)\n",
    "            df.insert(0, 'cuce', nombres_pdfs[idx])\n",
    "            df.insert(1, 'list_n', idx)\n",
    "            tablas_item.append(df)\n",
    "    except Exception as e:\n",
    "        tablas_item.append(None)\n",
    "        logger.error(f'Error al procesar tablas de ITEM de la lista: {idx}: {nombres_pdfs[idx]}')\n",
    "        logger.error(e)\n",
    "        continue\n",
    "    try:\n",
    "        tabla_adjudicado = tabla[idx_adjudicado:idx_item]\n",
    "        for df in tabla_adjudicado:\n",
    "            df.insert(0, 'cuce', nombres_pdfs[idx])\n",
    "            df.insert(1, 'list_n', idx)\n",
    "            df.replace('\\r', ' ', regex=True, inplace=True)\n",
    "            tablas_adjudicado.append(df)\n",
    "    except Exception as e:\n",
    "        tablas_adjudicado.append(None)\n",
    "        logger.error(f'Error al procesar tablas de ADJUDICADO de la lista: {idx}: {nombres_pdfs[idx]}')\n",
    "        logger.error(e)\n",
    "        continue"
   ]
  },
  {
   "cell_type": "markdown",
   "metadata": {},
   "source": [
    "## Concatenando y limpiando tablas"
   ]
  },
  {
   "cell_type": "code",
   "execution_count": 5,
   "metadata": {},
   "outputs": [],
   "source": [
    "# Concatenando tablas\n",
    "tablas_item_cat = pd.concat(tablas_item, ignore_index=True)\n",
    "tablas_adjudicado_cat = pd.concat(tablas_adjudicado, ignore_index=True)\n",
    "\n",
    "# Nombrando columnas de items\n",
    "nombres_cols = ['cuce', 'list_n', 'numero','codigo_unspsc','objeto_de_gasto','descripcion_del_bien_o_servicio','unidad_de_medida','cantidad','precio_referencial_unitario','precio_referencial_total','nombre_o_razon_social_del_proponente_adjudicado','precio_unitario_adjudicado','total_adjudicado','cantidad_recepcionada','precio_unitario_real','monto_real_ejecutado','estado','cronograma']\n",
    "tablas_item_cat.columns = nombres_cols\n",
    "\n",
    "# limpiando tablas totales\n",
    "tablas_totales = tablas_item_cat.query('numero == \"Total Adjudicado:\" | numero == \"Total Referencial:\" | numero == \"Total Recepcionado:\"').iloc[:, 0:8]\n",
    "tablas_totales.columns = ['cuce', 'list_n', 'tipo_a', 'monto_a', 'tipo_b', 'monto_b', 'tipo_c', 'monto_c']\n",
    "\n",
    "# limpiando tablas item\n",
    "tablas_item_clean = tablas_item_cat\n",
    "tablas_item_clean.query('numero != \"#\"', inplace=True)\n",
    "tablas_item_clean.query('numero not in [\"Total Adjudicado:\", \"Total Referencial:\", \"Total Recepcionado:\"]', inplace=True)\n",
    "tablas_item_clean.query('numero != \"Unnamed: 0\"', inplace=True)\n",
    "tablas_item_clean = tablas_item_clean.loc[tablas_item_clean.numero.str.isnumeric() == True]\n",
    "\n",
    "# limpiando tablas adjudicado\n",
    "tablas_adjudicado_clean = tablas_adjudicado_cat\n",
    "tablas_adjudicado_clean.columns = [\"cuce\", \"list_n\", \"numero\",\"nombre_proponente\",\"monto_adjudicado\",\"nro_de\",\"monto_de\",\"fecha_1\",\"monto\",\"fecha_2\",\"rupe\",\"estado\"]\n",
    "# tablas_adjudicado_clean = tablas_adjudicado_clean.loc[tablas_adjudicado_clean.numero.str.isnumeric() == True]"
   ]
  },
  {
   "cell_type": "markdown",
   "metadata": {},
   "source": [
    "## Guardar tablas limpias"
   ]
  },
  {
   "cell_type": "code",
   "execution_count": 6,
   "metadata": {},
   "outputs": [],
   "source": [
    "# Guardando tablas de items limpias\n",
    "tablas_item_clean.to_csv('csv/tablas_item_clean.csv', index=False)\n",
    "tablas_adjudicado_clean.to_csv('csv/tablas_adjudicado_clean.csv', index=False)"
   ]
  }
 ],
 "metadata": {
  "kernelspec": {
   "display_name": "Python 3.9.13 64-bit",
   "language": "python",
   "name": "python3"
  },
  "language_info": {
   "codemirror_mode": {
    "name": "ipython",
    "version": 3
   },
   "file_extension": ".py",
   "mimetype": "text/x-python",
   "name": "python",
   "nbconvert_exporter": "python",
   "pygments_lexer": "ipython3",
   "version": "3.11.3"
  },
  "orig_nbformat": 4,
  "vscode": {
   "interpreter": {
    "hash": "aee8b7b246df8f9039afb4144a1f6fd8d2ca17a180786b69acc140d282b71a49"
   }
  }
 },
 "nbformat": 4,
 "nbformat_minor": 2
}
