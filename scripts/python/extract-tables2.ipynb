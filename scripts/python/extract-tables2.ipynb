{
 "cells": [
  {
   "cell_type": "code",
   "execution_count": 1,
   "metadata": {},
   "outputs": [],
   "source": [
    "# Importar librerias y configurar logging\n",
    "import pandas as pd\n",
    "import numpy as np\n",
    "from pathlib import Path\n",
    "import tabula\n",
    "from unidecode import unidecode\n",
    "import logging\n",
    "logging.basicConfig(level=logging.DEBUG, filename='log.log',  format='%(asctime)s %(levelname)s %(name)s %(message)s')\n",
    "logger = logging.getLogger(__name__)"
   ]
  },
  {
   "cell_type": "code",
   "execution_count": 2,
   "metadata": {},
   "outputs": [],
   "source": [
    "# Listar archivos pdf\n",
    "mi_path = 'fichas_simp/'\n",
    "lista_pdfs = list(Path(mi_path).glob('**/*.pdf'))\n",
    "nombres_pdfs = [pdf.name.replace('.pdf', '') for pdf in lista_pdfs]"
   ]
  },
  {
   "cell_type": "code",
   "execution_count": 3,
   "metadata": {},
   "outputs": [],
   "source": [
    "# Mis funciones\n",
    "def remove_header(df):\n",
    "    return df.T.reset_index().T.reset_index(drop=True)\n",
    "def get_indexes(list_dfs):\n",
    "    list_adjudicado = []\n",
    "    list_item = []\n",
    "    list_cronograma = []\n",
    "    idx_adjudicado = None\n",
    "    idx_item = None\n",
    "    idx_cronograma = None\n",
    "    for i in range(len(list_dfs)):\n",
    "        if list_dfs[i].columns.str.contains('Nombre proponente').any():\n",
    "            list_adjudicado.append(i)\n",
    "        if list_dfs[i].columns.str.contains('UNSPS').any():\n",
    "            list_item.append(i)\n",
    "        if list_dfs[i].columns.str.contains('Hora').any():\n",
    "            list_cronograma.append(i)\n",
    "    idx_adjudicado = list_adjudicado[0] if len(list_adjudicado) > 0 else None\n",
    "    idx_item = list_item[0] if len(list_item) > 0 else None\n",
    "    idx_cronograma = list_cronograma[0] if len(list_cronograma) > 0 else idx_item + 1\n",
    "    return idx_adjudicado, idx_item, idx_cronograma"
   ]
  },
  {
   "cell_type": "code",
   "execution_count": null,
   "metadata": {},
   "outputs": [],
   "source": [
    "# Extraer tablas\n",
    "tablas = []\n",
    "for pdf in lista_pdfs:\n",
    "    try:\n",
    "        tabla = tabula.read_pdf(pdf, pages='all', guess=False, lattice=True)\n",
    "        tablas.append(tabla)\n",
    "    except Exception as e:\n",
    "        tablas.append(None)\n",
    "        logger.error(f'Error al extraer tablas de {pdf}')\n",
    "        logger.error(e)\n",
    "        continue"
   ]
  },
  {
   "cell_type": "code",
   "execution_count": 4,
   "metadata": {},
   "outputs": [],
   "source": [
    "# read pickle file\n",
    "tablas =  pd.read_pickle('fichas.pkl')"
   ]
  },
  {
   "cell_type": "code",
   "execution_count": 10,
   "metadata": {},
   "outputs": [],
   "source": [
    "del tablas"
   ]
  },
  {
   "cell_type": "code",
   "execution_count": 5,
   "metadata": {},
   "outputs": [],
   "source": [
    "# Obtener tablas\n",
    "tablas_item = []\n",
    "tablas_adjudicado = []\n",
    "for idx, tabla in enumerate(tablas):\n",
    "    try:\n",
    "        [idx_adjudicado, idx_item, idx_cronograma] = get_indexes(tabla)\n",
    "        tabla_item = [remove_header(x) for x in tabla[idx_item:idx_cronograma]]\n",
    "        # tabla_item.columns = tabla_item.columns.str.replace('\\r', '', regex=True).str.replace(' ', '').to_series().apply(unidecode)\n",
    "        for df in tabla_item:\n",
    "            df.drop(df.columns[-1], axis=1, inplace=True)\n",
    "            # df.drop(df.index[-1], inplace=True)\n",
    "            df.replace('\\r', ' ', regex=True, inplace=True)\n",
    "            df.insert(0, 'cuce', nombres_pdfs[idx])\n",
    "            df.insert(1, 'list_n', idx)\n",
    "            tablas_item.append(df)\n",
    "    except Exception as e:\n",
    "        tablas_item.append(None)\n",
    "        logger.error(f'Error al procesar tablas de ITEM de la lista: {idx}: {nombres_pdfs[idx]}')\n",
    "        logger.error(e)\n",
    "        continue\n",
    "    try:\n",
    "        tabla_adjudicado = tabla[idx_adjudicado:idx_item]\n",
    "        for df in tabla_adjudicado:\n",
    "            df.insert(0, 'cuce', nombres_pdfs[idx])\n",
    "            df.insert(1, 'list_n', idx)\n",
    "            df.replace('\\r', ' ', regex=True, inplace=True)\n",
    "            tablas_adjudicado.append(df)\n",
    "    except Exception as e:\n",
    "        tablas_adjudicado.append(None)\n",
    "        logger.error(f'Error al procesar tablas de ADJUDICADO de la lista: {idx}: {nombres_pdfs[idx]}')\n",
    "        logger.error(e)\n",
    "        continue"
   ]
  },
  {
   "cell_type": "code",
   "execution_count": 18,
   "metadata": {},
   "outputs": [],
   "source": [
    "# limpiando tablas item\n",
    "nombres_cols = ['cuce', 'list_n', 'numero','codigo_unspsc','objeto_de_gasto','descripcion_del_bien_o_servicio','unidad_de_medida','cantidad','precio_referencial_unitario','precio_referencial_total','nombre_o_razon_social_del_proponente_adjudicado','precio_unitario_adjudicado','total_adjudicado','cantidad_recepcionada','precio_unitario_real','monto_real_ejecutado','estado','cronograma']\n",
    "tablas_item_clean = pd.concat(tablas_item, ignore_index=True)\n",
    "tablas_item_clean.columns = nombres_cols\n",
    "tablas_item_clean.query('numero != \"#\"', inplace=True)\n",
    "tablas_item_clean.query('numero not in [\"Total Adjudicado:\", \"Total Referencial:\"]', inplace=True)\n",
    "tablas_item_clean.query('numero != \"Unnamed: 0\"', inplace=True)\n",
    "\n",
    "tablas_item_clean.to_csv('tablas_clean_item.csv', index=False)\n"
   ]
  },
  {
   "cell_type": "code",
   "execution_count": 8,
   "metadata": {},
   "outputs": [],
   "source": [
    "# limpiando tablas adjudicado\n",
    "tablas_adjudicado_clean = pd.concat(tablas_adjudicado, ignore_index=True)\n",
    "tablas_adjudicado_clean.to_csv('tablas_clean_adjudicado.csv', index=False)"
   ]
  },
  {
   "cell_type": "code",
   "execution_count": 9,
   "metadata": {},
   "outputs": [],
   "source": [
    "# limpiando tablas totales\n",
    "tablas_totales = tablas_item_clean.query('numero == \"Total Adjudicado:\" | numero == \"Total Referencial:\"').iloc[:, 0:8]\n",
    "tablas_totales.columns = ['cuce', 'list_n', 'tipo_a', 'monto_a', 'tipo_b', 'monto_b', 'tipo_c', 'monto_c']\n",
    "\n",
    "tablas_totales.to_csv('tablas_totales.csv', index=False)"
   ]
  },
  {
   "cell_type": "code",
   "execution_count": null,
   "metadata": {},
   "outputs": [],
   "source": [
    "import pickle\n",
    "with open('fichas.pkl', 'wb') as f:\n",
    "    pickle.dump(tablas, f)\n",
    "\n",
    "with open('lista_pdfs.pkl', 'wb') as f:\n",
    "    pickle.dump(lista_pdfs, f)"
   ]
  },
  {
   "cell_type": "code",
   "execution_count": null,
   "metadata": {},
   "outputs": [],
   "source": [
    "len(lista_pdfs) == len(tablas) == len(tablas_clean)"
   ]
  },
  {
   "cell_type": "code",
   "execution_count": 14,
   "metadata": {},
   "outputs": [
    {
     "data": {
      "text/plain": [
       "PosixPath('fichas_simp/plasma/20-1810-00-1049162-0-E.pdf')"
      ]
     },
     "execution_count": 14,
     "metadata": {},
     "output_type": "execute_result"
    }
   ],
   "source": [
    "lista_pdfs[9]"
   ]
  },
  {
   "cell_type": "markdown",
   "metadata": {},
   "source": [
    "# Pruebas"
   ]
  },
  {
   "cell_type": "code",
   "execution_count": 19,
   "metadata": {},
   "outputs": [
    {
     "data": {
      "text/plain": [
       "PosixPath('fichas_simp/PCR/21-0417-07-1121399-1-1.pdf')"
      ]
     },
     "execution_count": 19,
     "metadata": {},
     "output_type": "execute_result"
    }
   ],
   "source": [
    "lista_pdfs[359]"
   ]
  },
  {
   "cell_type": "code",
   "execution_count": 20,
   "metadata": {},
   "outputs": [
    {
     "data": {
      "text/html": [
       "<div>\n",
       "<style scoped>\n",
       "    .dataframe tbody tr th:only-of-type {\n",
       "        vertical-align: middle;\n",
       "    }\n",
       "\n",
       "    .dataframe tbody tr th {\n",
       "        vertical-align: top;\n",
       "    }\n",
       "\n",
       "    .dataframe thead th {\n",
       "        text-align: right;\n",
       "    }\n",
       "</style>\n",
       "<table border=\"1\" class=\"dataframe\">\n",
       "  <thead>\n",
       "    <tr style=\"text-align: right;\">\n",
       "      <th></th>\n",
       "      <th>20</th>\n",
       "      <th>4112000</th>\n",
       "      <th>34200</th>\n",
       "      <th>CLORO COLORIMETRICO</th>\n",
       "      <th>CAJA</th>\n",
       "      <th>1.00</th>\n",
       "      <th>220.00</th>\n",
       "      <th>220.00.1</th>\n",
       "      <th>Unnamed: 0</th>\n",
       "      <th>Unnamed: 1</th>\n",
       "      <th>Unnamed: 2</th>\n",
       "      <th>1.00.1</th>\n",
       "      <th>218.00</th>\n",
       "      <th>218.00.1</th>\n",
       "      <th>Contratado</th>\n",
       "      <th>Cronograma 0</th>\n",
       "    </tr>\n",
       "  </thead>\n",
       "  <tbody>\n",
       "    <tr>\n",
       "      <th>0</th>\n",
       "      <td>21</td>\n",
       "      <td>4112000</td>\n",
       "      <td>34200</td>\n",
       "      <td>PRUEBA RAPIDA PARA PSA\\rX 25 UNIDADES</td>\n",
       "      <td>CAJA</td>\n",
       "      <td>3.0</td>\n",
       "      <td>550.0</td>\n",
       "      <td>1,650.00</td>\n",
       "      <td>NaN</td>\n",
       "      <td>NaN</td>\n",
       "      <td>NaN</td>\n",
       "      <td>3.0</td>\n",
       "      <td>548.0</td>\n",
       "      <td>1,644.00</td>\n",
       "      <td>Contratado</td>\n",
       "      <td>Cronograma 0</td>\n",
       "    </tr>\n",
       "    <tr>\n",
       "      <th>1</th>\n",
       "      <td>22</td>\n",
       "      <td>4112000</td>\n",
       "      <td>34200</td>\n",
       "      <td>FIBRINOGENO 1 X 10 ML</td>\n",
       "      <td>CAJA</td>\n",
       "      <td>4.0</td>\n",
       "      <td>607.0</td>\n",
       "      <td>2,428.00</td>\n",
       "      <td>NaN</td>\n",
       "      <td>NaN</td>\n",
       "      <td>NaN</td>\n",
       "      <td>4.0</td>\n",
       "      <td>605.0</td>\n",
       "      <td>2,420.00</td>\n",
       "      <td>Contratado</td>\n",
       "      <td>Cronograma 0</td>\n",
       "    </tr>\n",
       "    <tr>\n",
       "      <th>2</th>\n",
       "      <td>23</td>\n",
       "      <td>4112000</td>\n",
       "      <td>34200</td>\n",
       "      <td>PRUEBA RAPIDA PARA\\rCHAGAS X 25 UNIDADES</td>\n",
       "      <td>CAJA</td>\n",
       "      <td>1.0</td>\n",
       "      <td>625.0</td>\n",
       "      <td>625.00</td>\n",
       "      <td>NaN</td>\n",
       "      <td>NaN</td>\n",
       "      <td>NaN</td>\n",
       "      <td>1.0</td>\n",
       "      <td>622.0</td>\n",
       "      <td>622.00</td>\n",
       "      <td>Contratado</td>\n",
       "      <td>Cronograma 0</td>\n",
       "    </tr>\n",
       "    <tr>\n",
       "      <th>3</th>\n",
       "      <td>Total Referencial:</td>\n",
       "      <td>49,838.00</td>\n",
       "      <td>Total Recepcionado:</td>\n",
       "      <td>49,312.00</td>\n",
       "      <td>NaN</td>\n",
       "      <td>NaN</td>\n",
       "      <td>NaN</td>\n",
       "      <td>NaN</td>\n",
       "      <td>NaN</td>\n",
       "      <td>NaN</td>\n",
       "      <td>NaN</td>\n",
       "      <td>NaN</td>\n",
       "      <td>NaN</td>\n",
       "      <td>NaN</td>\n",
       "      <td>NaN</td>\n",
       "      <td>NaN</td>\n",
       "    </tr>\n",
       "  </tbody>\n",
       "</table>\n",
       "</div>"
      ],
      "text/plain": [
       "                   20    4112000                34200  \\\n",
       "0                  21    4112000                34200   \n",
       "1                  22    4112000                34200   \n",
       "2                  23    4112000                34200   \n",
       "3  Total Referencial:  49,838.00  Total Recepcionado:   \n",
       "\n",
       "                        CLORO COLORIMETRICO  CAJA  1.00  220.00  220.00.1  \\\n",
       "0     PRUEBA RAPIDA PARA PSA\\rX 25 UNIDADES  CAJA   3.0   550.0  1,650.00   \n",
       "1                     FIBRINOGENO 1 X 10 ML  CAJA   4.0   607.0  2,428.00   \n",
       "2  PRUEBA RAPIDA PARA\\rCHAGAS X 25 UNIDADES  CAJA   1.0   625.0    625.00   \n",
       "3                                 49,312.00   NaN   NaN     NaN       NaN   \n",
       "\n",
       "   Unnamed: 0  Unnamed: 1  Unnamed: 2  1.00.1  218.00  218.00.1  Contratado  \\\n",
       "0         NaN         NaN         NaN     3.0   548.0  1,644.00  Contratado   \n",
       "1         NaN         NaN         NaN     4.0   605.0  2,420.00  Contratado   \n",
       "2         NaN         NaN         NaN     1.0   622.0    622.00  Contratado   \n",
       "3         NaN         NaN         NaN     NaN     NaN       NaN         NaN   \n",
       "\n",
       "   Cronograma 0  \n",
       "0  Cronograma 0  \n",
       "1  Cronograma 0  \n",
       "2  Cronograma 0  \n",
       "3           NaN  "
      ]
     },
     "execution_count": 20,
     "metadata": {},
     "output_type": "execute_result"
    }
   ],
   "source": [
    "tablas[359][5]"
   ]
  },
  {
   "cell_type": "code",
   "execution_count": 71,
   "metadata": {},
   "outputs": [
    {
     "data": {
      "text/plain": [
       "(3, 4, 5)"
      ]
     },
     "execution_count": 71,
     "metadata": {},
     "output_type": "execute_result"
    }
   ],
   "source": [
    "get_indexes(tablas[9])"
   ]
  }
 ],
 "metadata": {
  "kernelspec": {
   "display_name": "Python 3.9.13 64-bit",
   "language": "python",
   "name": "python3"
  },
  "language_info": {
   "codemirror_mode": {
    "name": "ipython",
    "version": 3
   },
   "file_extension": ".py",
   "mimetype": "text/x-python",
   "name": "python",
   "nbconvert_exporter": "python",
   "pygments_lexer": "ipython3",
   "version": "3.9.13"
  },
  "orig_nbformat": 4,
  "vscode": {
   "interpreter": {
    "hash": "aee8b7b246df8f9039afb4144a1f6fd8d2ca17a180786b69acc140d282b71a49"
   }
  }
 },
 "nbformat": 4,
 "nbformat_minor": 2
}
